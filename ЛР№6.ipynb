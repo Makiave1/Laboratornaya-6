{
 "cells": [
  {
   "cell_type": "markdown",
   "id": "3413dba7-361c-41e7-b1cb-fafc3474b6b2",
   "metadata": {},
   "source": [
    "Лабораторная работа №6\n",
    "Жидков А. В.\n",
    "ДПИ22-1"
   ]
  },
  {
   "cell_type": "markdown",
   "id": "8ca8b6d8-6168-4cb6-8829-8820b6837df4",
   "metadata": {},
   "source": [
    "UDP-Сервер"
   ]
  },
  {
   "cell_type": "code",
   "execution_count": null,
   "id": "7a43bff1-c25f-4b2c-8704-7a5cba158d3c",
   "metadata": {},
   "outputs": [
    {
     "name": "stdout",
     "output_type": "stream",
     "text": [
      "Сервер запущен. Ожидание сообщений...\n"
     ]
    }
   ],
   "source": [
    "import socket\n",
    "import threading\n",
    "\n",
    "class UDPChatServer:\n",
    "    def __init__(self, host='0.0.0.0', port=12345):\n",
    "        self.host = host\n",
    "        self.port = port\n",
    "        self.server_socket = None\n",
    "        self.clients = set()\n",
    "\n",
    "    def start(self):\n",
    "        self.server_socket = socket.socket(socket.AF_INET, socket.SOCK_DGRAM)\n",
    "        self.server_socket.bind((self.host, self.port))\n",
    "        print(\"Сервер запущен. Ожидание сообщений...\")\n",
    "\n",
    "        try:\n",
    "            while True:\n",
    "                data, addr = self.server_socket.recvfrom(1024)\n",
    "                message = data.decode()\n",
    "                print(f\"Получено сообщение от {addr}: {message}\")\n",
    "\n",
    "                if addr not in self.clients:\n",
    "                    self.clients.add(addr)\n",
    "\n",
    "                # Рассылка сообщения всем клиентам\n",
    "                self.broadcast(message, addr)\n",
    "        except KeyboardInterrupt:\n",
    "            print(\"Остановка сервера.\")\n",
    "        finally:\n",
    "            self.server_socket.close()\n",
    "\n",
    "    def broadcast(self, message, sender_addr):\n",
    "        for client in self.clients:\n",
    "            if client != sender_addr:\n",
    "                self.server_socket.sendto(message.encode(), client)\n",
    "\n",
    "if __name__ == \"__main__\":\n",
    "    server = UDPChatServer()\n",
    "    server.start()\n"
   ]
  },
  {
   "cell_type": "markdown",
   "id": "24f4118d-8d61-405d-9860-b6b0325c11c9",
   "metadata": {},
   "source": [
    "UDP-Клиент"
   ]
  },
  {
   "cell_type": "code",
   "execution_count": null,
   "id": "d006faac-f9be-4c15-a891-c0e9889f0ff1",
   "metadata": {},
   "outputs": [],
   "source": [
    "import socket\n",
    "import threading\n",
    "\n",
    "class UDPChatClient:\n",
    "    def __init__(self, host='127.0.0.1', port=12345):\n",
    "        self.host = host\n",
    "        self.port = port\n",
    "        self.client_socket = None\n",
    "\n",
    "    def start(self):\n",
    "        self.client_socket = socket.socket(socket.AF_INET, socket.SOCK_DGRAM)\n",
    "\n",
    "        # Запускаем поток для приема сообщений\n",
    "        threading.Thread(target=self.receive_messages, daemon=True).start()\n",
    "\n",
    "        print(\"Соединение с сервером установлено.\")\n",
    "        while True:\n",
    "            message = input(\"Введите сообщение (или 'exit' для выхода): \")\n",
    "            if message.lower() == 'exit':\n",
    "                break\n",
    "            self.client_socket.sendto(message.encode(), (self.host, self.port))\n",
    "\n",
    "        self.client_socket.close()\n",
    "        print(\"Разрыв соединения с сервером.\")\n",
    "\n",
    "    def receive_messages(self):\n",
    "        while True:\n",
    "            try:\n",
    "                data, _ = self.client_socket.recvfrom(1024)\n",
    "                print(f\"\\nНовое сообщение: {data.decode()}\")\n",
    "            except OSError:\n",
    "                break\n",
    "\n",
    "if __name__ == \"__main__\":\n",
    "    client = UDPChatClient()\n",
    "    client.start()\n"
   ]
  },
  {
   "cell_type": "code",
   "execution_count": null,
   "id": "9f037725-422c-4900-b9e6-d7e63d3d034a",
   "metadata": {},
   "outputs": [],
   "source": []
  }
 ],
 "metadata": {
  "kernelspec": {
   "display_name": "Python 3 (ipykernel)",
   "language": "python",
   "name": "python3"
  },
  "language_info": {
   "codemirror_mode": {
    "name": "ipython",
    "version": 3
   },
   "file_extension": ".py",
   "mimetype": "text/x-python",
   "name": "python",
   "nbconvert_exporter": "python",
   "pygments_lexer": "ipython3",
   "version": "3.11.7"
  }
 },
 "nbformat": 4,
 "nbformat_minor": 5
}
